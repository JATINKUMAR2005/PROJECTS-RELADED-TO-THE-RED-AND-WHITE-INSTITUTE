{
 "cells": [
  {
   "cell_type": "code",
   "execution_count": 1,
   "id": "ecb0e7bb",
   "metadata": {},
   "outputs": [
    {
     "name": "stdout",
     "output_type": "stream",
     "text": [
      "Welcome to the Interactive Personal Data Collector!\n",
      "This program will collect some personal data and show how Python handles data types and memory addresses.\n",
      "\n",
      "\n",
      "Thank you! Here is the information we collected:\n",
      "\n",
      "Name: Jatin (Type: <class 'str'>, Memory Address: 2633170629904)\n",
      "Age: 19 (Type: <class 'int'>, Memory Address: 140732452746728)\n",
      "Height: 182.5 (Type: <class 'float'>, Memory Address: 2633148613488)\n",
      "Favourite Number: 25 (Type: <class 'int'>, Memory Address: 140732452746920)\n",
      "\n",
      "Your birth year is approximately: 2006 (based on your age of 19)\n",
      "\n",
      "Thank you for using the Personal Data Collector. Goodbye!\n",
      "Keep exploring Python and happy coding!\n"
     ]
    }
   ],
   "source": [
    "# Interactive Personal Data Collector\n",
    "\n",
    "# Welcome Message\n",
    "print(\"Welcome to the Interactive Personal Data Collector!\")\n",
    "print(\"This program will collect some personal data and show how Python handles data types and memory addresses.\\n\")\n",
    "\n",
    "# Collect Information\n",
    "name = input(\"Please enter your name: \")\n",
    "age = int(input(\"Please enter your age: \"))\n",
    "height = float(input(\"Please enter your height in meters: \"))\n",
    "fav_number = int(input(\"Please enter your favourite number: \"))\n",
    "\n",
    "# Data Processing\n",
    "birth_year = 2025 - age  # Assuming current year is 2025\n",
    "\n",
    "# Display Results\n",
    "print(\"\\nThank you! Here is the information we collected:\\n\")\n",
    "\n",
    "print(f\"Name: {name} (Type: {type(name)}, Memory Address: {id(name)})\")\n",
    "print(f\"Age: {age} (Type: {type(age)}, Memory Address: {id(age)})\")\n",
    "print(f\"Height: {height} (Type: {type(height)}, Memory Address: {id(height)})\")\n",
    "print(f\"Favourite Number: {fav_number} (Type: {type(fav_number)}, Memory Address: {id(fav_number)})\")\n",
    "\n",
    "print(f\"\\nYour birth year is approximately: {birth_year} (based on your age of {age})\")\n",
    "\n",
    "# Exit Message\n",
    "print(\"\\nThank you for using the Personal Data Collector. Goodbye!\")\n",
    "print(\"Keep exploring Python and happy coding!\")"
   ]
  }
 ],
 "metadata": {
  "kernelspec": {
   "display_name": "base",
   "language": "python",
   "name": "python3"
  },
  "language_info": {
   "codemirror_mode": {
    "name": "ipython",
    "version": 3
   },
   "file_extension": ".py",
   "mimetype": "text/x-python",
   "name": "python",
   "nbconvert_exporter": "python",
   "pygments_lexer": "ipython3",
   "version": "3.13.5"
  }
 },
 "nbformat": 4,
 "nbformat_minor": 5
}
